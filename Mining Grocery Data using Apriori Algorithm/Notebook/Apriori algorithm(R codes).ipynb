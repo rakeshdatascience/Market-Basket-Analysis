{
 "cells": [
  {
   "cell_type": "code",
   "execution_count": null,
   "metadata": {
    "collapsed": true
   },
   "outputs": [],
   "source": [
    "#### To install R console in Jupyter notebook following packages are required to be installed in R Console.\n",
    "install.packages(c('repr', 'IRdisplay', 'evaluate', 'crayon', 'pbdZMQ', 'devtools', 'uuid', 'digest'))\n",
    "devtools::install_github('IRkernel/IRkernel')\n",
    "####  Making the kernel available to Jupyter\n",
    "IRkernel::installspec(user = FALSE)\n"
   ]
  },
  {
   "cell_type": "code",
   "execution_count": 1,
   "metadata": {},
   "outputs": [
    {
     "name": "stderr",
     "output_type": "stream",
     "text": [
      "Loading required package: Matrix\n",
      "\n",
      "Attaching package: 'arules'\n",
      "\n",
      "The following objects are masked from 'package:base':\n",
      "\n",
      "    abbreviate, write\n",
      "\n"
     ]
    }
   ],
   "source": [
    "## Importing the 'arules' package for market basket analysis\n",
    "library(arules)"
   ]
  },
  {
   "cell_type": "code",
   "execution_count": 2,
   "metadata": {},
   "outputs": [
    {
     "data": {
      "text/plain": [
       "transactions as itemMatrix in sparse format with\n",
       " 9835 rows (elements/itemsets/transactions) and\n",
       " 169 columns (items) and a density of 0.02609146 \n",
       "\n",
       "most frequent items:\n",
       "      whole milk other vegetables       rolls/buns             soda \n",
       "            2513             1903             1809             1715 \n",
       "          yogurt          (Other) \n",
       "            1372            34055 \n",
       "\n",
       "element (itemset/transaction) length distribution:\n",
       "sizes\n",
       "   1    2    3    4    5    6    7    8    9   10   11   12   13   14   15   16 \n",
       "2159 1643 1299 1005  855  645  545  438  350  246  182  117   78   77   55   46 \n",
       "  17   18   19   20   21   22   23   24   26   27   28   29   32 \n",
       "  29   14   14    9   11    4    6    1    1    1    1    3    1 \n",
       "\n",
       "   Min. 1st Qu.  Median    Mean 3rd Qu.    Max. \n",
       "  1.000   2.000   3.000   4.409   6.000  32.000 \n",
       "\n",
       "includes extended item information - examples:\n",
       "            labels\n",
       "1 abrasive cleaner\n",
       "2 artif. sweetener\n",
       "3   baby cosmetics"
      ]
     },
     "metadata": {},
     "output_type": "display_data"
    }
   ],
   "source": [
    "## Since it's transaction data so we will use 'read.transaction' to view the dataset as transaction; 'sep=\",\" means we want to \n",
    "## separate each item from one anther\n",
    "grocery<-read.transactions(\"groceries.csv\",sep = \",\")\n",
    "summary(grocery)"
   ]
  },
  {
   "cell_type": "code",
   "execution_count": 5,
   "metadata": {},
   "outputs": [
    {
     "name": "stdout",
     "output_type": "stream",
     "text": [
      "    items                     \n",
      "[1] {citrus fruit,            \n",
      "     margarine,               \n",
      "     ready soups,             \n",
      "     semi-finished bread}     \n",
      "[2] {coffee,                  \n",
      "     tropical fruit,          \n",
      "     yogurt}                  \n",
      "[3] {whole milk}              \n",
      "[4] {cream cheese,            \n",
      "     meat spreads,            \n",
      "     pip fruit,               \n",
      "     yogurt}                  \n",
      "[5] {condensed milk,          \n",
      "     long life bakery product,\n",
      "     other vegetables,        \n",
      "     whole milk}              \n",
      "[6] {abrasive cleaner,        \n",
      "     butter,                  \n",
      "     rice,                    \n",
      "     whole milk,              \n",
      "     yogurt}                  \n",
      "[7] {rolls/buns}              \n"
     ]
    }
   ],
   "source": [
    "### The code below  With 'inspect' function enables us to find first seven transactions with items purchased in each transaction.\n",
    "inspect(grocery[1:7,])"
   ]
  },
  {
   "cell_type": "code",
   "execution_count": 6,
   "metadata": {},
   "outputs": [
    {
     "data": {
      "text/html": [
       "<strong>abrasive cleaner:</strong> 0.00355871886120996"
      ],
      "text/latex": [
       "\\textbf{abrasive cleaner:} 0.00355871886120996"
      ],
      "text/markdown": [
       "**abrasive cleaner:** 0.00355871886120996"
      ],
      "text/plain": [
       "abrasive cleaner \n",
       "     0.003558719 "
      ]
     },
     "metadata": {},
     "output_type": "display_data"
    },
    {
     "name": "stdout",
     "output_type": "stream",
     "text": [
      "[1] 29.505\n"
     ]
    }
   ],
   "source": [
    "### This is the support of Abrasive cleaner means that Abrasive cleaner has appeared or been purchased in (0.003*9835)=29.5 \n",
    "### transactions out of total 9835 transactions.\n",
    "itemFrequency(grocery[,1])\n",
    "print(0.003*9835)"
   ]
  },
  {
   "cell_type": "code",
   "execution_count": 7,
   "metadata": {},
   "outputs": [
    {
     "data": {
      "image/png": "[encoded data removed]",
      "text/plain": [
       "plot without title"
      ]
     },
     "metadata": {},
     "output_type": "display_data"
    }
   ],
   "source": [
    "## Now we want items having minimum 10% of of support meaning items appeared at least 10% of the total transaction. Below that\n",
    "## we will ignore\n",
    "itemFrequencyPlot(grocery,support=0.10)"
   ]
  },
  {
   "cell_type": "code",
   "execution_count": 8,
   "metadata": {},
   "outputs": [
    {
     "data": {
      "image/png": "[encoded data removed]",
      "text/plain": [
       "plot without title"
      ]
     },
     "metadata": {},
     "output_type": "display_data"
    }
   ],
   "source": [
    "## We want to see top five frequency of items purchased\n",
    "itemFrequencyPlot(grocery,topN=5)"
   ]
  },
  {
   "cell_type": "markdown",
   "metadata": {},
   "source": [
    "## support(A)=frq(A)/N\n",
    "## support(B)=frq(B)/N\n",
    "## support(A->B)=freq(a & B)/N(total number of Transactions)\n",
    "## confidence(A->B)=freq(B)/Freq(A) or Support(A,B)/Support(A)\n",
    "## lift(A->B)=Support(A->B)/Support(A)*Support(B)"
   ]
  },
  {
   "cell_type": "code",
   "execution_count": 10,
   "metadata": {},
   "outputs": [
    {
     "name": "stdout",
     "output_type": "stream",
     "text": [
      "Apriori\n",
      "\n",
      "Parameter specification:\n",
      " confidence minval smax arem  aval originalSupport maxtime support minlen\n",
      "       0.35    0.1    1 none FALSE            TRUE       5   0.007      2\n",
      " maxlen target   ext\n",
      "     10  rules FALSE\n",
      "\n",
      "Algorithmic control:\n",
      " filter tree heap memopt load sort verbose\n",
      "    0.1 TRUE TRUE  FALSE TRUE    2    TRUE\n",
      "\n",
      "Absolute minimum support count: 68 \n",
      "\n",
      "set item appearances ...[0 item(s)] done [0.00s].\n",
      "set transactions ...[169 item(s), 9835 transaction(s)] done [0.01s].\n",
      "sorting and recoding items ... [104 item(s)] done [0.00s].\n",
      "creating transaction tree ... done [0.00s].\n",
      "checking subsets of size 1 2 3 4 done [0.00s].\n",
      "writing ... [190 rule(s)] done [0.00s].\n",
      "creating S4 object  ... done [0.00s].\n"
     ]
    },
    {
     "data": {
      "text/plain": [
       "set of 190 rules\n",
       "\n",
       "rule length distribution (lhs + rhs):sizes\n",
       "  2   3   4 \n",
       " 64 117   9 \n",
       "\n",
       "   Min. 1st Qu.  Median    Mean 3rd Qu.    Max. \n",
       "  2.000   2.000   3.000   2.711   3.000   4.000 \n",
       "\n",
       "summary of quality measures:\n",
       "    support           confidence          lift           count      \n",
       " Min.   :0.007016   Min.   :0.3510   Min.   :1.388   Min.   : 69.0  \n",
       " 1st Qu.:0.008134   1st Qu.:0.3904   1st Qu.:1.729   1st Qu.: 80.0  \n",
       " Median :0.009659   Median :0.4385   Median :1.977   Median : 95.0  \n",
       " Mean   :0.012974   Mean   :0.4475   Mean   :2.067   Mean   :127.6  \n",
       " 3rd Qu.:0.013676   3rd Qu.:0.4923   3rd Qu.:2.285   3rd Qu.:134.5  \n",
       " Max.   :0.074835   Max.   :0.6389   Max.   :3.956   Max.   :736.0  \n",
       "\n",
       "mining info:\n",
       "    data ntransactions support confidence\n",
       " grocery          9835   0.007       0.35"
      ]
     },
     "metadata": {},
     "output_type": "display_data"
    }
   ],
   "source": [
    "## Using apriori algorithm; support=0.007 indicates that we want items that have have been purchased at least 0.7% of total \n",
    "## 9835 of transactions i,e at least in 68.84 transactions. We want to keep confidence=0.35,higher the confidence better the \n",
    "## rules. minlen=2 indicates that we want minimum 2 items in rules or transactions.\n",
    "basket<-apriori(grocery,parameter = list(support=0.007,confidence=0.35,minlen=2))\n",
    "summary(basket)"
   ]
  },
  {
   "cell_type": "markdown",
   "metadata": {
    "collapsed": true
   },
   "source": [
    "#### rule length distribution (lhs + rhs):sizes\n",
    "  2   3   4 \n",
    " 64 117   9 rule length distribution (lhs + rhs):sizes\n",
    "####  the above figure tells us that 2 items together bought in 64 transactions, 3 items together bought in 117 transactions and 4\n",
    "#### items together bought in 9 transactions out of total 190 transactions or rules as per given conditions."
   ]
  },
  {
   "cell_type": "markdown",
   "metadata": {},
   "source": [
    "### Below we show first five transactions having different support and confidence. Confidence for example o.43 indicates that \n",
    "### the likelihood of purchasing 'root vegetables' given than 'herbs' is also purchased. Lift This signifies the likelihood of \n",
    "### the itemset Y being purchased when item X is purchased while taking into account the popularity of  Y. in our example lift\n",
    "### 3.95 signifies that 'root vegetables' is more likely that's 3.95 times along with herbs. Lift greater than 1 is good it means\n",
    "### y is more likely to br bought given x is also bought. We generally ignore lift less than 1."
   ]
  },
  {
   "cell_type": "code",
   "execution_count": 11,
   "metadata": {},
   "outputs": [
    {
     "name": "stdout",
     "output_type": "stream",
     "text": [
      "    lhs                      rhs                support     confidence lift    \n",
      "[1] {herbs}               => {root vegetables}  0.007015760 0.4312500  3.956477\n",
      "[2] {herbs}               => {other vegetables} 0.007727504 0.4750000  2.454874\n",
      "[3] {herbs}               => {whole milk}       0.007727504 0.4750000  1.858983\n",
      "[4] {processed cheese}    => {whole milk}       0.007015760 0.4233129  1.656698\n",
      "[5] {semi-finished bread} => {whole milk}       0.007117438 0.4022989  1.574457\n",
      "    count\n",
      "[1] 69   \n",
      "[2] 76   \n",
      "[3] 76   \n",
      "[4] 69   \n",
      "[5] 70   \n"
     ]
    }
   ],
   "source": [
    "\n",
    "inspect(basket[1:5])"
   ]
  },
  {
   "cell_type": "code",
   "execution_count": null,
   "metadata": {
    "collapsed": true
   },
   "outputs": [],
   "source": []
  },
  {
   "cell_type": "code",
   "execution_count": 15,
   "metadata": {},
   "outputs": [
    {
     "name": "stdout",
     "output_type": "stream",
     "text": [
      "    lhs                   rhs                   support confidence     lift count\n",
      "[1] {herbs}            => {root vegetables} 0.007015760  0.4312500 3.956477    69\n",
      "[2] {other vegetables,                                                           \n",
      "     tropical fruit,                                                             \n",
      "     whole milk}       => {root vegetables} 0.007015760  0.4107143 3.768074    69\n",
      "[3] {beef,                                                                       \n",
      "     other vegetables} => {root vegetables} 0.007930859  0.4020619 3.688692    78\n",
      "[4] {beef,                                                                       \n",
      "     whole milk}       => {root vegetables} 0.008032537  0.3779904 3.467851    79\n",
      "[5] {other vegetables,                                                           \n",
      "     pip fruit}        => {tropical fruit}  0.009456024  0.3618677 3.448613    93\n",
      "[6] {citrus fruit,                                                               \n",
      "     other vegetables} => {root vegetables} 0.010371124  0.3591549 3.295045   102\n"
     ]
    }
   ],
   "source": [
    "## We show top 6 transactions having maximum lift in descending order\n",
    "inspect(sort(basket,by=\"lift\")[1:6])"
   ]
  },
  {
   "cell_type": "markdown",
   "metadata": {},
   "source": [
    "## From the above analysis we can for example [3] {beef,                                                                       \n",
    "    #### beef,other vegetables} => {root vegetables} 0.007930859  0.4020619 3.688692    78,\n",
    "## recommend the retailer to cross sell or place root vegetables with other vagetables as the lift(3.68) is much above 1,  that means beef,other vagetables increase the probability of buying\n",
    "## root vegetables by 3.68 times"
   ]
  },
  {
   "cell_type": "code",
   "execution_count": null,
   "metadata": {
    "collapsed": true
   },
   "outputs": [],
   "source": []
  }
 ],
 "metadata": {
  "kernelspec": {
   "display_name": "R",
   "language": "R",
   "name": "ir"
  },
  "language_info": {
   "codemirror_mode": "r",
   "file_extension": ".r",
   "mimetype": "text/x-r-source",
   "name": "R",
   "pygments_lexer": "r",
   "version": "3.4.2"
  }
 },
 "nbformat": 4,
 "nbformat_minor": 2
}
